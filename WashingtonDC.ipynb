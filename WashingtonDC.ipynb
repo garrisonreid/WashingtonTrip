{
  "nbformat": 4,
  "nbformat_minor": 0,
  "metadata": {
    "colab": {
      "name": "WashingtonDC.ipynb",
      "provenance": [],
      "collapsed_sections": []
    },
    "kernelspec": {
      "name": "python3",
      "display_name": "Python 3"
    }
  },
  "cells": [
    {
      "cell_type": "code",
      "metadata": {
        "id": "a3l-s21jyG2a",
        "colab_type": "code",
        "outputId": "ee8aadcf-cacc-432f-c038-5549e348a9e3",
        "colab": {
          "base_uri": "https://localhost:8080/",
          "height": 204
        }
      },
      "source": [
        "import pandas as pd\n",
        "import folium\n",
        "\n",
        "df = pd.read_csv('https://docs.google.com/spreadsheets/d/e/2PACX-1vQoBaWr-suxebmuktTFwS1qJW5qeitJJG1nSJxEKXE3A6Ijz--eU6jkScCRBXHjGx1PAxggBH1stBiP/pub?output=csv')\n",
        "df.head()"
      ],
      "execution_count": 0,
      "outputs": [
        {
          "output_type": "execute_result",
          "data": {
            "text/html": [
              "<div>\n",
              "<style scoped>\n",
              "    .dataframe tbody tr th:only-of-type {\n",
              "        vertical-align: middle;\n",
              "    }\n",
              "\n",
              "    .dataframe tbody tr th {\n",
              "        vertical-align: top;\n",
              "    }\n",
              "\n",
              "    .dataframe thead th {\n",
              "        text-align: right;\n",
              "    }\n",
              "</style>\n",
              "<table border=\"1\" class=\"dataframe\">\n",
              "  <thead>\n",
              "    <tr style=\"text-align: right;\">\n",
              "      <th></th>\n",
              "      <th>Location</th>\n",
              "      <th>Address</th>\n",
              "      <th>City</th>\n",
              "      <th>State</th>\n",
              "      <th>Zip</th>\n",
              "      <th>Lng</th>\n",
              "      <th>Lat</th>\n",
              "      <th>Date Visiting</th>\n",
              "      <th>Day Order</th>\n",
              "    </tr>\n",
              "  </thead>\n",
              "  <tbody>\n",
              "    <tr>\n",
              "      <th>0</th>\n",
              "      <td>Hilton Alexandria Mark Center</td>\n",
              "      <td>5000 Seminary Road</td>\n",
              "      <td>Alexandria</td>\n",
              "      <td>VA</td>\n",
              "      <td>22311</td>\n",
              "      <td>38.832777</td>\n",
              "      <td>-77.117195</td>\n",
              "      <td>Lodging</td>\n",
              "      <td>0</td>\n",
              "    </tr>\n",
              "    <tr>\n",
              "      <th>1</th>\n",
              "      <td>Holocaust Museum</td>\n",
              "      <td>100 Raoul Wallenberg Pl SW</td>\n",
              "      <td>Washington</td>\n",
              "      <td>DC</td>\n",
              "      <td>20024</td>\n",
              "      <td>38.886689</td>\n",
              "      <td>-77.032689</td>\n",
              "      <td>Friday</td>\n",
              "      <td>1</td>\n",
              "    </tr>\n",
              "    <tr>\n",
              "      <th>2</th>\n",
              "      <td>Supreme Court</td>\n",
              "      <td>1 First St NE</td>\n",
              "      <td>Washington</td>\n",
              "      <td>DC</td>\n",
              "      <td>20543</td>\n",
              "      <td>38.890628</td>\n",
              "      <td>-77.004389</td>\n",
              "      <td>Friday</td>\n",
              "      <td>2</td>\n",
              "    </tr>\n",
              "    <tr>\n",
              "      <th>3</th>\n",
              "      <td>WWII Memorial</td>\n",
              "      <td>900 Ohio Drive SW</td>\n",
              "      <td>Washington</td>\n",
              "      <td>DC</td>\n",
              "      <td>20024</td>\n",
              "      <td>38.881309</td>\n",
              "      <td>-77.032140</td>\n",
              "      <td>Friday</td>\n",
              "      <td>3</td>\n",
              "    </tr>\n",
              "    <tr>\n",
              "      <th>4</th>\n",
              "      <td>Lincoln Memorial</td>\n",
              "      <td>2 Lincoln Memorial Cir NW</td>\n",
              "      <td>Washington</td>\n",
              "      <td>DC</td>\n",
              "      <td>20037</td>\n",
              "      <td>38.889223</td>\n",
              "      <td>-77.050163</td>\n",
              "      <td>Friday</td>\n",
              "      <td>4</td>\n",
              "    </tr>\n",
              "  </tbody>\n",
              "</table>\n",
              "</div>"
            ],
            "text/plain": [
              "                        Location  ... Day Order\n",
              "0  Hilton Alexandria Mark Center  ...         0\n",
              "1               Holocaust Museum  ...         1\n",
              "2                  Supreme Court  ...         2\n",
              "3                  WWII Memorial  ...         3\n",
              "4               Lincoln Memorial  ...         4\n",
              "\n",
              "[5 rows x 9 columns]"
            ]
          },
          "metadata": {
            "tags": []
          },
          "execution_count": 30
        }
      ]
    },
    {
      "cell_type": "code",
      "metadata": {
        "id": "NkQcf52OyQw2",
        "colab_type": "code",
        "outputId": "12b449ac-455e-4ce7-c195-a0c8b3df5d5c",
        "colab": {
          "base_uri": "https://localhost:8080/",
          "height": 849
        }
      },
      "source": [
        "m = folium.Map(location=[df['Lng'].mean(),df['Lat'].mean()], tiles=None, zoom_start=13)\n",
        "folium.TileLayer(tiles='openstreetmap', show=True, control=False, min_zoom=11).add_to(m)\n",
        "\n",
        "lodge_data = df[df['Date Visiting'] == 'Lodging']\n",
        "fri_data = df[df['Date Visiting'] == 'Friday']\n",
        "sat_data = df[df['Date Visiting'] == 'Saturday']\n",
        "sun_data = df[df['Date Visiting'] == 'Sunday']\n",
        "\n",
        "lodge = folium.FeatureGroup(name='Lodging', show=True)\n",
        "fri = folium.FeatureGroup(name='Friday', show=True)\n",
        "sat = folium.FeatureGroup(name='Saturday', show=True)\n",
        "sun = folium.FeatureGroup(name='Sunday', show=True)\n",
        "\n",
        "for i in range(0,len(lodge_data)):\n",
        "  folium.Marker(\n",
        "    location=[lodge_data.iloc[i]['Lng'], lodge_data.iloc[i]['Lat']],\n",
        "    popup= folium.Popup(html=\"<strong>Attraction:</strong> \" + str(lodge_data.iloc[i]['Location']) + \"\\n \\n \"+ \"\\n\\n \" + '<strong>Day Visiting:</strong> ' + str(lodge_data.iloc[i]['Date Visiting']) + \"\\n\\n \"+ \"\\n\\n \" + '<strong>Order in Day:</strong> ' + str(lodge_data.iloc[i]['Day Order']), show=True) ,\n",
        "    icon=folium.Icon(color='gray')\n",
        "  ).add_to(lodge)\n",
        "\n",
        "for i in range(0,len(fri_data)):\n",
        "  folium.Marker(\n",
        "    location=[fri_data.iloc[i]['Lng'], fri_data.iloc[i]['Lat']],\n",
        "    popup= folium.Popup(html=\"<strong>Attraction:</strong> \" + str(fri_data.iloc[i]['Location']) + \"\\n \\n \" + \"\\n\\n \" + '<strong>Day Visiting:</strong> ' + str(fri_data.iloc[i]['Date Visiting']) + \"\\n\\n \"+ \"\\n\\n \" + '<strong>Order in Day:</strong> ' + str(fri_data.iloc[i]['Day Order']), show=True),\n",
        "    icon=folium.Icon(color='red')\n",
        "  ).add_to(fri)\n",
        "\n",
        "for i in range(0,len(sat_data)):\n",
        "  folium.Marker(\n",
        "    location=[sat_data.iloc[i]['Lng'], sat_data.iloc[i]['Lat']],\n",
        "    popup= folium.Popup(html=\"<strong>Attraction:</strong> \" + str(sat_data.iloc[i]['Location']) + \"\\n \\n \" + \"\\n\\n \" + '<strong>Day Visiting:</strong> ' + str(sat_data.iloc[i]['Date Visiting']) + \"\\n\\n \"+ \"\\n\\n \" + '<strong>Order in Day:</strong> ' + str(sat_data.iloc[i]['Day Order']), show=True),\n",
        "    icon=folium.Icon(color='blue')\n",
        "  ).add_to(sat)\n",
        "\n",
        "for i in range(0,len(sun_data)):\n",
        "  folium.Marker(\n",
        "    location=[sun_data.iloc[i]['Lng'], sun_data.iloc[i]['Lat']],\n",
        "    popup = folium.Popup(html=\"<strong>Attraction:</strong> \" + str(sun_data.iloc[i]['Location']) + \"\\n \\n \"+ \"\\n\\n \" + '<strong>Day Visiting:</strong> ' + str(sun_data.iloc[i]['Date Visiting']) + \"\\n\\n \"+ \"\\n\\n \" + '<strong>Order in Day:</strong> ' + str(sun_data.iloc[i]['Day Order']), show=True),\n",
        "    icon=folium.Icon(color='green')\n",
        "  ).add_to(sun)\n",
        "\n",
        "lodge.add_to(m)\n",
        "fri.add_to(m)\n",
        "sat.add_to(m)\n",
        "sun.add_to(m)\n",
        "\n",
        "folium.LayerControl(collapsed=False).add_to(m)\n",
        "\n",
        "m"
      ],
      "execution_count": 0,
      "outputs": [
        {
          "output_type": "execute_result",
          "data": {
            "text/html": [
              "<div style=\"width:100%;\"><div style=\"position:relative;width:100%;height:0;padding-bottom:60%;\"><iframe src=\"data:text/html;charset=utf-8;base64,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\" style=\"position:absolute;width:100%;height:100%;left:0;top:0;border:none !important;\" allowfullscreen webkitallowfullscreen mozallowfullscreen></iframe></div></div>"
            ],
            "text/plain": [
              "<folium.folium.Map at 0x7f56ad10a6a0>"
            ]
          },
          "metadata": {
            "tags": []
          },
          "execution_count": 45
        }
      ]
    }
  ]
}